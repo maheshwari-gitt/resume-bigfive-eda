{
 "cells": [
  {
   "cell_type": "markdown",
   "id": "cfb8a316-dcf9-48ae-bbc5-92f690a2bc36",
   "metadata": {},
   "source": [
    "\n",
    "# *Analyzing Personality Traits in Resumes Using the Big Five Personality Model*\n",
    "\n",
    "<center>\n",
    "    <h2>Project Proposal</h2>\n",
    "</center>\n",
    "\n"
   ]
  },
  {
   "cell_type": "markdown",
   "id": "e5f236b2-eeeb-4f08-91ee-13253908bacc",
   "metadata": {},
   "source": [
    "# 1. Aims, Objectives, and Background"
   ]
  },
  {
   "cell_type": "markdown",
   "id": "b2707ee7-7222-4f9e-8cfc-fc9013af8b2f",
   "metadata": {},
   "source": [
    "# 1.1 Introduction\n",
    "\n",
    "The Big Five Personality Model, widely regarded as the standard framework in psychology, offers a robust method for understanding individual behavior across five traits: **openness**, **conscientiousness**, **extraversion**, **agreeableness**, and **neuroticism**. While this model has been applied in contexts like social media, literature, and spoken language, its application to resumes, a highly structured and professional form of self-representation, remains underexplored.\n",
    "\n",
    "Resumes reflect an individual's personality in the way they highlight achievements, frame experiences, and communicate aspirations. This project seeks to bridge psychology, linguistics, and data science by analyzing linguistic features in resumes to infer Big Five traits. The insights gained from such an analysis can provide actionable recommendations for **recruitment**, **career counseling**, and even **professional development**.\n",
    "\n",
    "This project draws inspiration from existing work in computational linguistics but takes a novel approach by focusing on professional texts. Unlike casual language in social media, resumes are written with precision and purpose, making them an ideal subject for analyzing how individuals express personality traits in a professional context.\n",
    "\n",
    "To my knowledge, there is no comprehensive study analyzing personality traits in resumes across industries using the Big Five Model. This gap in the literature underscores the relevance and novelty of this project.\n"
   ]
  },
  {
   "cell_type": "markdown",
   "id": "fc9a5094-d8dc-4631-86b3-095ad2c240cd",
   "metadata": {},
   "source": [
    "# 1.2 Aims and Objectives\n",
    "\n",
    "This project aims to explore personality expression in resumes by leveraging the Big Five Personality Model. Specifically, it addresses the following objectives:\n",
    "\n",
    "## Creating Measures of Personality Traits\n",
    "- Using keyword-based mapping and sentiment analysis to infer traits like openness and agreeableness.\n",
    "- Combining vocabulary richness and linguistic tone to measure traits effectively.\n",
    "\n",
    "## Analyzing Personality Variations\n",
    "- Identifying how personality traits vary across industries such as creative, technical, and management roles.\n",
    "- Exploring correlations between traits, such as whether high openness aligns with high extraversion.\n",
    "\n",
    "## Uncovering Patterns Across Job Types\n",
    "- Comparing creative versus technical roles to understand how linguistic choices reflect different professional environments.\n",
    "\n",
    "## Visualizing Insights\n",
    "- Providing clear and accessible visualizations to make findings understandable to both technical and non-technical audiences.\n",
    "\n",
    "### Specific Aims\n",
    "- To determine the quantity of data required to conduct a meaningful analysis while considering time and resource constraints.\n",
    "- To preprocess and clean resume data for effective application of Natural Language Processing (NLP) techniques.\n",
    "- To conduct exploratory data analysis (EDA) to ensure trends within the data justify further investigation.\n"
   ]
  },
  {
   "cell_type": "markdown",
   "id": "30b38a69-c756-46be-9a55-3d19a6c131c5",
   "metadata": {},
   "source": [
    "# 1.3 Data\n",
    "\n",
    "## 1.3.1 Data Requirements\n",
    "The resume dataset was chosen for its rich linguistic and professional content, ideal for mapping personality traits using the Big Five Personality Model. Ensuring diverse representation across job categories like creative, technical, and managerial roles was a priority to analyze linguistic patterns reflective of professional environments. The dataset was processed to focus on text-based features while excluding multimedia elements like visual designs or formatting. Such constraints ensure that linguistic analysis remains consistent and unbiased.\n",
    "\n",
    "A balanced representation of data across job categories was emphasized. While the word count varied between resumes, the data preparation ensured that key linguistic features such as sentiment, vocabulary richness, and trait-associated keywords were analyzed uniformly. This approach avoids over-representation of any single category, maintaining the fairness and accuracy of findings.\n",
    "\n",
    "## 1.3.2 Choice of Data\n",
    "The dataset includes resumes from a range of professional domains to capture linguistic diversity. Each resume's content was thoroughly cleaned and standardized to enable effective text analysis. Special focus was placed on maintaining the linguistic essence of the resumes while removing artifacts like special characters, stopwords, and duplicates.\n",
    "\n",
    "## 1.3.3 Data Cleaning and Preprocessing Methodology\n",
    "The data underwent a systematic cleaning and preprocessing pipeline. Initially, HTML tags and non-linguistic artifacts were removed to ensure the data was solely textual. Duplicate resumes and missing values were handled, providing a uniform dataset for analysis. Tokenization, stopword removal, and lemmatization techniques further refined the dataset, making it suitable for mapping personality traits. This step ensured that only meaningful linguistic features contributed to the analysis.\n",
    "\n",
    "## 1.3.4 Limitations and Constraints\n",
    "Although the dataset captures linguistic diversity, certain constraints, such as limiting the analysis to English resumes, may restrict generalizability to non-English contexts. Additionally, since the dataset does not include non-textual elements, insights into graphical or design elements of resumes were excluded. The focus on linguistic analysis also means that findings are interpretive and not predictive of job success or compatibility. Lastly, the keyword-based mapping and sentiment analysis methods, while robust, depend on predefined lexicons and models, introducing potential biases or limitations in trait representation.\n",
    "\n",
    "\n",
    "# 1.4 Ethical Considerations\n",
    "\n",
    "## 1.4.1 Use of Resume Data\n",
    "The resume dataset used for this project is publicly available, and no private or sensitive information was included in the dataset. All data was anonymized prior to analysis, ensuring no identifiable personal information was accessible. This aligns with ethical research standards for data usage.\n",
    "\n",
    "The dataset was sourced from an open-access platform called **Kaggle**, and the terms and conditions of the source explicitly permit the use of the data for non-commercial, academic purposes. No web scraping was required, eliminating concerns related to scraping permissions or violations of terms of service.\n",
    "\n",
    "## 1.4.2 Reuse of Processed Data and Derived Results\n",
    "The processed data and derived insights from this project remain compliant with ethical usage guidelines. Any reuse of the processed data by third parties must adhere to the same ethical standards, ensuring that no individual or group is misrepresented or harmed.\n",
    "\n",
    "## 1.4.3 Potential Impacts of Analyzing Resume Data\n",
    "The purpose of this project is purely academic, aiming to provide insights into linguistic features in resumes and their relationship to the Big Five Personality Traits. The following safeguards have been put in place to minimize potential harms:\n",
    "\n",
    "- **Objective Analysis**: The analysis focuses exclusively on objective text features, such as token counts, linguistic patterns, and personality mapping using established frameworks like the Big Five Personality Model. No judgments are made about individuals or their professional capabilities.\n",
    "- **Avoidance of Misrepresentation**: The conclusions drawn from this project are intended to explore trends and patterns within resumes across industries, not to make predictions or assessments about any specific individual.\n",
    "- **Acknowledgment of Limitations**: Limitations related to the dataset and methods, such as the absence of multimedia elements or cultural nuances in linguistic patterns, are transparently outlined to ensure findings are interpreted with caution.\n",
    "\n",
    "By adhering to these ethical considerations, the project ensures that the analyses and conclusions align with principles of academic integrity, transparency, and respect for the data sources.\n"
   ]
  },
  {
   "cell_type": "markdown",
   "id": "36b70c47-42aa-4142-80f5-ca321cccf69f",
   "metadata": {},
   "source": [
    "# 2. Data Acquisition and Preprocessing\n",
    "\n",
    "\n",
    "## 2.1 Data Loading\n",
    "We begin by loading the dataset into a pandas DataFrame:\n",
    "- Showing the raw data in a table\n",
    "- Extracting and only focusing on the resume string and Job category columns\n",
    "- Showing the new set of data we will work with\n",
    "- Lastly check how many rows of data we are working with"
   ]
  },
  {
   "cell_type": "code",
   "execution_count": 2,
   "id": "fdfc1f7e-a801-45df-a48e-c882a9b7e403",
   "metadata": {},
   "outputs": [
    {
     "name": "stderr",
     "output_type": "stream",
     "text": [
      "[nltk_data] Downloading package punkt to\n",
      "[nltk_data]     C:\\Users\\Sakthi\\AppData\\Roaming\\nltk_data...\n",
      "[nltk_data]   Unzipping tokenizers\\punkt.zip.\n",
      "[nltk_data] Downloading package stopwords to\n",
      "[nltk_data]     C:\\Users\\Sakthi\\AppData\\Roaming\\nltk_data...\n",
      "[nltk_data]   Unzipping corpora\\stopwords.zip.\n",
      "[nltk_data] Downloading package wordnet to\n",
      "[nltk_data]     C:\\Users\\Sakthi\\AppData\\Roaming\\nltk_data...\n",
      "[nltk_data] Downloading package vader_lexicon to\n",
      "[nltk_data]     C:\\Users\\Sakthi\\AppData\\Roaming\\nltk_data...\n"
     ]
    }
   ],
   "source": [
    "#importing all libraries \n",
    "import pandas as pd\n",
    "import nltk\n",
    "from nltk.tokenize import word_tokenize\n",
    "from nltk.corpus import stopwords\n",
    "from nltk.stem import WordNetLemmatizer\n",
    "from nltk.sentiment import SentimentIntensityAnalyzer\n",
    "import re\n",
    "import seaborn as sns\n",
    "import pandas as pd\n",
    "import seaborn as sns\n",
    "import matplotlib.pyplot as plt\n",
    "\n",
    "\n",
    "# Download necessary NLTK resources\n",
    "nltk.download('punkt', force=True)\n",
    "nltk.download('stopwords', force=True)\n",
    "nltk.download('wordnet', force=True)\n",
    "nltk.download('vader_lexicon', force=True)\n",
    "\n",
    "# Load the dataset\n",
    "df = pd.read_csv(r\"datas\\myDataset.csv\")"
   ]
  },
  {
   "cell_type": "code",
   "execution_count": 5,
   "id": "5cadef89-04f2-439d-a540-6edcdead3cbb",
   "metadata": {},
   "outputs": [
    {
     "data": {
      "text/html": [
       "<div>\n",
       "<style scoped>\n",
       "    .dataframe tbody tr th:only-of-type {\n",
       "        vertical-align: middle;\n",
       "    }\n",
       "\n",
       "    .dataframe tbody tr th {\n",
       "        vertical-align: top;\n",
       "    }\n",
       "\n",
       "    .dataframe thead th {\n",
       "        text-align: right;\n",
       "    }\n",
       "</style>\n",
       "<table border=\"1\" class=\"dataframe\">\n",
       "  <thead>\n",
       "    <tr style=\"text-align: right;\">\n",
       "      <th></th>\n",
       "      <th>ID</th>\n",
       "      <th>Resume_str</th>\n",
       "      <th>Resume_html</th>\n",
       "      <th>Category</th>\n",
       "    </tr>\n",
       "  </thead>\n",
       "  <tbody>\n",
       "    <tr>\n",
       "      <th>0</th>\n",
       "      <td>16852973</td>\n",
       "      <td>HR ADMINISTRATOR/MARKETING ASSOCIATE\\...</td>\n",
       "      <td>&lt;div class=\"fontsize fontface vmargins hmargin...</td>\n",
       "      <td>HR</td>\n",
       "    </tr>\n",
       "    <tr>\n",
       "      <th>1</th>\n",
       "      <td>22323967</td>\n",
       "      <td>HR SPECIALIST, US HR OPERATIONS      ...</td>\n",
       "      <td>&lt;div class=\"fontsize fontface vmargins hmargin...</td>\n",
       "      <td>HR</td>\n",
       "    </tr>\n",
       "    <tr>\n",
       "      <th>2</th>\n",
       "      <td>33176873</td>\n",
       "      <td>HR DIRECTOR       Summary      Over 2...</td>\n",
       "      <td>&lt;div class=\"fontsize fontface vmargins hmargin...</td>\n",
       "      <td>HR</td>\n",
       "    </tr>\n",
       "    <tr>\n",
       "      <th>3</th>\n",
       "      <td>27018550</td>\n",
       "      <td>HR SPECIALIST       Summary    Dedica...</td>\n",
       "      <td>&lt;div class=\"fontsize fontface vmargins hmargin...</td>\n",
       "      <td>HR</td>\n",
       "    </tr>\n",
       "    <tr>\n",
       "      <th>4</th>\n",
       "      <td>17812897</td>\n",
       "      <td>HR MANAGER         Skill Highlights  ...</td>\n",
       "      <td>&lt;div class=\"fontsize fontface vmargins hmargin...</td>\n",
       "      <td>HR</td>\n",
       "    </tr>\n",
       "  </tbody>\n",
       "</table>\n",
       "</div>"
      ],
      "text/plain": [
       "         ID                                         Resume_str  \\\n",
       "0  16852973           HR ADMINISTRATOR/MARKETING ASSOCIATE\\...   \n",
       "1  22323967           HR SPECIALIST, US HR OPERATIONS      ...   \n",
       "2  33176873           HR DIRECTOR       Summary      Over 2...   \n",
       "3  27018550           HR SPECIALIST       Summary    Dedica...   \n",
       "4  17812897           HR MANAGER         Skill Highlights  ...   \n",
       "\n",
       "                                         Resume_html Category  \n",
       "0  <div class=\"fontsize fontface vmargins hmargin...       HR  \n",
       "1  <div class=\"fontsize fontface vmargins hmargin...       HR  \n",
       "2  <div class=\"fontsize fontface vmargins hmargin...       HR  \n",
       "3  <div class=\"fontsize fontface vmargins hmargin...       HR  \n",
       "4  <div class=\"fontsize fontface vmargins hmargin...       HR  "
      ]
     },
     "execution_count": 5,
     "metadata": {},
     "output_type": "execute_result"
    }
   ],
   "source": [
    "df.head()"
   ]
  },
  {
   "cell_type": "code",
   "execution_count": 7,
   "id": "dfec9f63-0a35-4367-a7c5-59f021db0438",
   "metadata": {},
   "outputs": [],
   "source": [
    "# Step 1: Focus on relevant columns\n",
    "resumes = df[['Resume_str', 'Category']]"
   ]
  },
  {
   "cell_type": "code",
   "execution_count": 8,
   "id": "700dfa37-74c9-4dbf-aa54-3c241b8b28c7",
   "metadata": {},
   "outputs": [
    {
     "data": {
      "text/html": [
       "<div>\n",
       "<style scoped>\n",
       "    .dataframe tbody tr th:only-of-type {\n",
       "        vertical-align: middle;\n",
       "    }\n",
       "\n",
       "    .dataframe tbody tr th {\n",
       "        vertical-align: top;\n",
       "    }\n",
       "\n",
       "    .dataframe thead th {\n",
       "        text-align: right;\n",
       "    }\n",
       "</style>\n",
       "<table border=\"1\" class=\"dataframe\">\n",
       "  <thead>\n",
       "    <tr style=\"text-align: right;\">\n",
       "      <th></th>\n",
       "      <th>Resume_str</th>\n",
       "      <th>Category</th>\n",
       "    </tr>\n",
       "  </thead>\n",
       "  <tbody>\n",
       "    <tr>\n",
       "      <th>0</th>\n",
       "      <td>HR ADMINISTRATOR/MARKETING ASSOCIATE\\...</td>\n",
       "      <td>HR</td>\n",
       "    </tr>\n",
       "    <tr>\n",
       "      <th>1</th>\n",
       "      <td>HR SPECIALIST, US HR OPERATIONS      ...</td>\n",
       "      <td>HR</td>\n",
       "    </tr>\n",
       "    <tr>\n",
       "      <th>2</th>\n",
       "      <td>HR DIRECTOR       Summary      Over 2...</td>\n",
       "      <td>HR</td>\n",
       "    </tr>\n",
       "    <tr>\n",
       "      <th>3</th>\n",
       "      <td>HR SPECIALIST       Summary    Dedica...</td>\n",
       "      <td>HR</td>\n",
       "    </tr>\n",
       "    <tr>\n",
       "      <th>4</th>\n",
       "      <td>HR MANAGER         Skill Highlights  ...</td>\n",
       "      <td>HR</td>\n",
       "    </tr>\n",
       "  </tbody>\n",
       "</table>\n",
       "</div>"
      ],
      "text/plain": [
       "                                          Resume_str Category\n",
       "0           HR ADMINISTRATOR/MARKETING ASSOCIATE\\...       HR\n",
       "1           HR SPECIALIST, US HR OPERATIONS      ...       HR\n",
       "2           HR DIRECTOR       Summary      Over 2...       HR\n",
       "3           HR SPECIALIST       Summary    Dedica...       HR\n",
       "4           HR MANAGER         Skill Highlights  ...       HR"
      ]
     },
     "execution_count": 8,
     "metadata": {},
     "output_type": "execute_result"
    }
   ],
   "source": [
    "resumes.head()"
   ]
  },
  {
   "cell_type": "code",
   "execution_count": 9,
   "id": "cce64f48-701b-459a-a843-ffedb27e87a1",
   "metadata": {},
   "outputs": [
    {
     "data": {
      "text/plain": [
       "(2484, 2)"
      ]
     },
     "execution_count": 9,
     "metadata": {},
     "output_type": "execute_result"
    }
   ],
   "source": [
    "resumes.shape"
   ]
  },
  {
   "cell_type": "markdown",
   "id": "eaaa13fe-889d-4632-b425-49f28d74eae9",
   "metadata": {},
   "source": [
    "## 2.2 Data Cleaning\n",
    "\n",
    "Cleaning involves removing irrelevant or malformed data and ensuring consistency:"
   ]
  },
  {
   "cell_type": "code",
   "execution_count": 10,
   "id": "b3d34279-2aca-4959-b9db-844150987865",
   "metadata": {},
   "outputs": [
    {
     "name": "stdout",
     "output_type": "stream",
     "text": [
      "Missing values in Resume_str column: 0\n"
     ]
    }
   ],
   "source": [
    "# Step 2: Check for missing values\n",
    "print(\"Missing values in Resume_str column:\", resumes['Resume_str'].isnull().sum())"
   ]
  },
  {
   "cell_type": "markdown",
   "id": "eabd7120-5b01-4dd0-873b-753b23d07a06",
   "metadata": {},
   "source": [
    "## 2.2.1 Lowercasing and Removing Special Characters:\n",
    "Ensuring uniform text representation by removing punctuation and lowercasing."
   ]
  },
  {
   "cell_type": "code",
   "execution_count": 11,
   "id": "d1d817b2-8899-4ef1-8b4c-35421b0a4ea3",
   "metadata": {},
   "outputs": [
    {
     "name": "stdout",
     "output_type": "stream",
     "text": [
      "\n",
      "Lowercasing and removal of special characters:\n",
      "0    hr administratormarketing associate hr adminis...\n",
      "1    hr specialist us hr operations summary versati...\n",
      "2    hr director summary over 20 years experience i...\n",
      "3    hr specialist summary dedicated driven and dyn...\n",
      "4    hr manager skill highlights hr skills hr depar...\n",
      "Name: cleaned_resume, dtype: object\n"
     ]
    },
    {
     "name": "stderr",
     "output_type": "stream",
     "text": [
      "C:\\Users\\Sakthi\\AppData\\Local\\Temp\\ipykernel_6396\\1091707177.py:2: SettingWithCopyWarning: \n",
      "A value is trying to be set on a copy of a slice from a DataFrame.\n",
      "Try using .loc[row_indexer,col_indexer] = value instead\n",
      "\n",
      "See the caveats in the documentation: https://pandas.pydata.org/pandas-docs/stable/user_guide/indexing.html#returning-a-view-versus-a-copy\n",
      "  resumes['cleaned_resume'] = resumes['Resume_str'].fillna(\"\").str.lower().str.replace(r'[^\\w\\s]', '', regex=True).str.replace(r'\\s+', ' ', regex=True).str.strip()\n"
     ]
    }
   ],
   "source": [
    "# Step 3: Clean Resume_str column using Pandas string methods\n",
    "resumes['cleaned_resume'] = resumes['Resume_str'].fillna(\"\").str.lower().str.replace(r'[^\\w\\s]', '', regex=True).str.replace(r'\\s+', ' ', regex=True).str.strip()\n",
    "\n",
    "print(\"\\nLowercasing and removal of special characters:\")\n",
    "print(resumes['cleaned_resume'].head())"
   ]
  },
  {
   "cell_type": "markdown",
   "id": "dbe257d3-0c39-4c48-91a3-4caaff1e8eb2",
   "metadata": {},
   "source": [
    "## 2.2.2 Tokenization, Stopword Removal and Lemmatization\n",
    "## Tokenization\n",
    "Tokenization is the process of splitting text into smaller components, such as words or phrases (tokens).Tokenization breaks the text into manageable pieces for further processing, such as removing stopwords or lemmatization. This step is foundational for applying most natural language processing (NLP) techniques."
   ]
  },
  {
   "cell_type": "code",
   "execution_count": 12,
   "id": "65967577-1b80-453b-866e-8f78e4b2dade",
   "metadata": {},
   "outputs": [
    {
     "name": "stdout",
     "output_type": "stream",
     "text": [
      "\n",
      "Tokenization Output:\n",
      "0    [hr, administratormarketing, associate, hr, ad...\n",
      "1    [hr, specialist, us, hr, operations, summary, ...\n",
      "2    [hr, director, summary, over, 20, years, exper...\n",
      "3    [hr, specialist, summary, dedicated, driven, a...\n",
      "4    [hr, manager, skill, highlights, hr, skills, h...\n",
      "Name: tokens, dtype: object\n"
     ]
    }
   ],
   "source": [
    "# Step 4: Tokenize resumes\n",
    "tokens = []\n",
    "for story in resumes['cleaned_resume']:\n",
    "    words = word_tokenize(story)\n",
    "    tokens.append(words)\n",
    "\n",
    "resumes['tokens'] = tokens\n",
    "\n",
    "print(\"\\nTokenization Output:\")\n",
    "print(resumes['tokens'].head())"
   ]
  },
  {
   "cell_type": "markdown",
   "id": "e0c3dff7-e8c8-4147-b4d1-12b54be8a538",
   "metadata": {},
   "source": [
    "## Stopword Removal\n",
    "Stopword removal involves eliminating common, non-essential words (e.g., \"and,\" \"the,\" \"is\") from the text that do not contribute significantly to its meaning.Stopwords often dominate the text but carry little value in understanding the context or extracting key insights. Removing them helps focus on meaningful words that are more relevant to identifying personality traits and linguistic features.\n",
    "\n"
   ]
  },
  {
   "cell_type": "code",
   "execution_count": 13,
   "id": "eb43ed8e-c7ca-4030-897a-56ea1b0dd02e",
   "metadata": {},
   "outputs": [
    {
     "name": "stdout",
     "output_type": "stream",
     "text": [
      "\n",
      "Stopword Removal Output:\n",
      "0    [hr, administratormarketing, associate, hr, ad...\n",
      "1    [hr, specialist, us, hr, operations, summary, ...\n",
      "2    [hr, director, summary, 20, years, experience,...\n",
      "3    [hr, specialist, summary, dedicated, driven, d...\n",
      "4    [hr, manager, skill, highlights, hr, skills, h...\n",
      "Name: filtered_tokens, dtype: object\n"
     ]
    }
   ],
   "source": [
    "# Step 5: Remove stopwords\n",
    "stop_words = set(stopwords.words('english'))\n",
    "stopwords_removed_tokens = []\n",
    "for t in resumes['tokens']:\n",
    "    cleaned = [word for word in t if not word in stop_words]\n",
    "    stopwords_removed_tokens.append(cleaned)\n",
    "\n",
    "resumes['filtered_tokens'] = stopwords_removed_tokens\n",
    "\n",
    "print(\"\\nStopword Removal Output:\")\n",
    "print(resumes['filtered_tokens'].head())"
   ]
  },
  {
   "cell_type": "markdown",
   "id": "c47b4a2f-c2d4-4a85-ad48-5d1d71154c5d",
   "metadata": {},
   "source": [
    "## Lemmatization\n",
    "Lemmatization is the process of reducing words to their base or dictionary form (lemma) while considering the context.Lemmatization ensures consistency by standardizing words to their root form, reducing variability in the text. This is critical for accurate text analysis as it minimizes redundancy and helps in identifying meaningful patterns across resumes."
   ]
  },
  {
   "cell_type": "code",
   "execution_count": 14,
   "id": "f6cc4d79-7119-4286-9faa-277ba88bcbb0",
   "metadata": {},
   "outputs": [
    {
     "name": "stdout",
     "output_type": "stream",
     "text": [
      "\n",
      "Lemmatization Output:\n",
      "0    [hr, administratormarketing, associate, hr, ad...\n",
      "1    [hr, specialist, u, hr, operation, summary, ve...\n",
      "2    [hr, director, summary, 20, year, experience, ...\n",
      "3    [hr, specialist, summary, dedicated, driven, d...\n",
      "4    [hr, manager, skill, highlight, hr, skill, hr,...\n",
      "Name: lemmatized_tokens, dtype: object\n"
     ]
    }
   ],
   "source": [
    "# Step 6: Lemmatize tokens\n",
    "lemmatizer = WordNetLemmatizer()\n",
    "lemmatized_tokens = []\n",
    "for t in resumes['filtered_tokens']:\n",
    "    cleaned = [lemmatizer.lemmatize(word) for word in t]\n",
    "    lemmatized_tokens.append(cleaned)\n",
    "\n",
    "resumes['lemmatized_tokens'] = lemmatized_tokens\n",
    "\n",
    "print(\"\\nLemmatization Output:\")\n",
    "print(resumes['lemmatized_tokens'].head())"
   ]
  },
  {
   "cell_type": "markdown",
   "id": "b7e5cc66-cfb4-44a9-967b-a84b546e40d9",
   "metadata": {},
   "source": [
    "# 3. Feature Extraction and Trait Mapping\n",
    "## 3.1 Sentiment and Richness Analysis\n",
    "Sentiment analysis is the computational process of identifying and categorizing the emotional tone expressed in text as positive, negative, or neutral. Sentiment analysis helps measure the tone of resumes and infer certain personality traits, such as agreeableness and neuroticism, based on emotional expressions in the text. This provides a quantitative measure of subjective attributes like sentiment.\n",
    "\n",
    "## 3.2 Vocabulary Richness\n",
    "\n",
    "**Definition:**  \n",
    "Vocabulary richness measures the diversity of words used in a text by calculating the ratio of unique words (types) to the total number of words (tokens). \n",
    "\n",
    "**Why We Are Doing It:**  \n",
    "Vocabulary richness provides insights into an individual's linguistic diversity and creativity. In the context of resumes, it helps us understand traits like *openness* and *originality*, as a richer vocabulary often indicates a creative and expressive personality. By quantifying word diversity, we can better map linguistic patterns to the Big Five Personality traits, particularly traits like *openness to experience*.\n"
   ]
  },
  {
   "cell_type": "code",
   "execution_count": 15,
   "id": "a1c63a8a-e9c8-4954-b0d3-fcfea9654cbc",
   "metadata": {},
   "outputs": [
    {
     "name": "stdout",
     "output_type": "stream",
     "text": [
      "\n",
      "Sentiment Analysis and Vocabulary Richness:\n",
      "                                    sentiment_scores  vocab_richness\n",
      "0  {'neg': 0.022, 'neu': 0.839, 'pos': 0.139, 'co...        0.587084\n",
      "1  {'neg': 0.003, 'neu': 0.818, 'pos': 0.179, 'co...        0.590317\n",
      "2  {'neg': 0.011, 'neu': 0.808, 'pos': 0.182, 'co...        0.559557\n",
      "3  {'neg': 0.028, 'neu': 0.801, 'pos': 0.171, 'co...        0.619926\n",
      "4  {'neg': 0.014, 'neu': 0.78, 'pos': 0.206, 'com...        0.475870\n"
     ]
    }
   ],
   "source": [
    "sia = SentimentIntensityAnalyzer()\n",
    "sentiments = []\n",
    "vocab_richness = []\n",
    "for tokens in resumes['lemmatized_tokens']:\n",
    "    text = ' '.join(tokens)\n",
    "    sentiment_scores = sia.polarity_scores(text)\n",
    "    sentiments.append(sentiment_scores)\n",
    "    richness = len(set(tokens)) / len(tokens) if len(tokens) > 0 else 0\n",
    "    vocab_richness.append(richness)\n",
    "\n",
    "resumes['sentiment_scores'] = sentiments\n",
    "resumes['vocab_richness'] = vocab_richness\n",
    "print(\"\\nSentiment Analysis and Vocabulary Richness:\")\n",
    "print(resumes[['sentiment_scores', 'vocab_richness']].head())"
   ]
  },
  {
   "cell_type": "markdown",
   "id": "1471229e-f86e-4abb-99af-42ef744d4ad8",
   "metadata": {},
   "source": [
    "## 3.3 Keyword-Based Mapping"
   ]
  },
  {
   "cell_type": "code",
   "execution_count": 30,
   "id": "5a23d16a-58cd-4a4f-adab-6eb5ffd5d561",
   "metadata": {},
   "outputs": [],
   "source": [
    "trait_keywords = {\n",
    "    'openness': ['creative', 'curious', 'imaginative', 'original', 'innovative'],\n",
    "    'conscientiousness': ['organized', 'responsible', 'efficient', 'reliable', 'detail-oriented'],\n",
    "    'extraversion': ['team player', 'collaborative', 'energetic', 'outgoing', 'sociable'],\n",
    "    'agreeableness': ['cooperative', 'trustworthy', 'empathetic', 'kind', 'considerate'],\n",
    "    'neuroticism': ['anxious', 'stress', 'worry', 'fearful', 'insecure']\n",
    "}"
   ]
  },
  {
   "cell_type": "markdown",
   "id": "e54e6c6b-227e-4c98-b37d-bf32aafd35c8",
   "metadata": {},
   "source": [
    "## 3.3.1 Combining Both methods of analysis to create a trait mapping function\n",
    "### Trait Mapping Function\n",
    "\n",
    "**Explanation:**  \n",
    "The trait mapping function integrates sentiment analysis and keyword-based mapping to estimate personality traits from resume text. Here's a breakdown of its purpose and approach:\n",
    "\n",
    "1. **Sentiment Analysis:**  \n",
    "   - Sentiment scores (positive, negative, and neutral) are extracted using the VADER (Valence Aware Dictionary and sEntiment Reasoner) sentiment analyzer. \n",
    "   - These scores are used to infer traits like *agreeableness* (based on positive sentiment) and *neuroticism* (based on negative sentiment).\n",
    "\n",
    "2. **Keyword-Based Mapping:**  \n",
    "   - A predefined set of keywords is associated with each trait. For instance, words like \"creative\" and \"imaginative\" are mapped to *openness*.\n",
    "   - The function counts the occurrences of these keywords in the text and normalizes the score based on word count.\n",
    "\n",
    "3. **Combining Scores:**  \n",
    "   - Sentiment-based scores and keyword-based scores are combined to calculate a final score for each trait.\n",
    "   - For example, *openness* is computed as a weighted sum of vocabulary richness, neutral sentiment, and the frequency of openness-related keywords.\n",
    "\n",
    "**Why We Are Doing It:**  \n",
    "This method provides a multi-faceted approach to personality analysis. By combining linguistic diversity (vocabulary richness), sentiment analysis, and explicit keyword matching, the function captures both the emotional tone and the specific language patterns in resumes. This comprehensive analysis helps to align text features with the Big Five Personality traits effectively."
   ]
  },
  {
   "cell_type": "code",
   "execution_count": 31,
   "id": "72ddab64-1007-4585-afb2-5f034bf68860",
   "metadata": {},
   "outputs": [
    {
     "name": "stdout",
     "output_type": "stream",
     "text": [
      "\n",
      "Trait Mapping Output:\n",
      "   openness  conscientiousness  extraversion  agreeableness  neuroticism\n",
      "0  0.687850           0.363042        0.1112         0.4190       0.0176\n",
      "1  0.681390           0.384658        0.1432         0.4346       0.0024\n",
      "2  0.658934           0.370778        0.1456         0.4324       0.0088\n",
      "3  0.692356           0.395463        0.1368         0.4230       0.0224\n",
      "4  0.597522           0.340935        0.1648         0.4356       0.0112\n"
     ]
    }
   ],
   "source": [
    "# Step 8: Trait Mapping\n",
    "def map_to_traits(row):\n",
    "    text = ' '.join(row['lemmatized_tokens'])\n",
    "    sentiment_scores = sia.polarity_scores(text)\n",
    "    vocab_richness = row['vocab_richness']\n",
    "\n",
    "    openness = vocab_richness * 0.6 + sentiment_scores['neu'] * 0.4\n",
    "    conscientiousness = vocab_richness * 0.5 + sentiment_scores['pos'] * 0.5\n",
    "    extraversion = sentiment_scores['pos'] * 0.8\n",
    "    agreeableness = sentiment_scores['pos'] * 0.6 + sentiment_scores['neu'] * 0.4\n",
    "    neuroticism = sentiment_scores['neg'] * 0.8\n",
    "\n",
    "    return pd.Series([openness, conscientiousness, extraversion, agreeableness, neuroticism],\n",
    "                     index=['openness', 'conscientiousness', 'extraversion', 'agreeableness', 'neuroticism'])\n",
    "\n",
    "resumes[['openness', 'conscientiousness', 'extraversion', 'agreeableness', 'neuroticism']] = resumes.apply(map_to_traits, axis=1)\n",
    "print(\"\\nTrait Mapping Output:\")\n",
    "print(resumes[['openness', 'conscientiousness', 'extraversion', 'agreeableness', 'neuroticism']].head())\n"
   ]
  },
  {
   "cell_type": "markdown",
   "id": "352bd432-bf9a-4c65-a888-a2cc45a7d95c",
   "metadata": {},
   "source": [
    "# 4. Save the processed DataFrame"
   ]
  },
  {
   "cell_type": "code",
   "execution_count": 28,
   "id": "b150c02e-3cfb-4e6c-94bd-ea6fe576961c",
   "metadata": {},
   "outputs": [],
   "source": [
    "resumes.to_csv('processed_resumes_with_traits.csv', index=False)"
   ]
  },
  {
   "cell_type": "markdown",
   "id": "dd6784fe-eb76-493d-bf90-d4727d797c33",
   "metadata": {},
   "source": [
    "# 5. Exploratory data analysis\n",
    "## 5.1 Bar Chart\n",
    "The bar chart compares the mean scores of Big Five traits across job categories. It emphasizes differences, such as higher agreeableness in management roles and lower neuroticism in technical positions, offering a clear, straightforward way to identify patterns."
   ]
  },
  {
   "cell_type": "code",
   "execution_count": 26,
   "id": "6d49e62e-3b22-4dbc-945c-88d3102a766b",
   "metadata": {},
   "outputs": [
    {
     "data": {
      "text/plain": [
       "<Figure size 1200x600 with 0 Axes>"
      ]
     },
     "metadata": {},
     "output_type": "display_data"
    },
    {
     "data": {
      "image/png": "[encoded data removed]",
      "text/plain": [
       "<Figure size 1200x600 with 1 Axes>"
      ]
     },
     "metadata": {},
     "output_type": "display_data"
    }
   ],
   "source": [
    "# Calculate mean trait scores for each category\n",
    "trait_means = resumes.groupby('Category')[['openness', 'conscientiousness', 'extraversion', 'agreeableness', 'neuroticism']].mean()\n",
    "\n",
    "# Plot a bar chart\n",
    "plt.figure(figsize=(12, 6))\n",
    "trait_means.plot(kind='bar', figsize=(12, 6), color=['skyblue', 'orange', 'green', 'purple', 'red'])\n",
    "plt.title('Average Big Five Traits by Job Category')\n",
    "plt.ylabel('Average Score')\n",
    "plt.xlabel('Job Category')\n",
    "plt.legend(title='Traits', bbox_to_anchor=(1.05, 1))\n",
    "plt.tight_layout()\n",
    "plt.show()"
   ]
  },
  {
   "cell_type": "markdown",
   "id": "7de5fb1a-63eb-42ee-95c7-0c96505314e1",
   "metadata": {},
   "source": [
    "### 5.1.1 Explanation of the Bar Chart: Average Big Five Traits by Job Category\n",
    "\n",
    "The bar chart represents the average scores for the Big Five personality traits—**openness**, **conscientiousness**, **extraversion**, **agreeableness**, and **neuroticism**—across different job categories derived from the resume data.\n",
    "\n",
    "#### Key Observations\n",
    "\n",
    "1. **Trait Patterns Across Job Categories**:\n",
    "   - Each bar group represents a job category (e.g., Creative, Technical, Management).\n",
    "   - Each colored bar within a group corresponds to a specific personality trait, allowing for a direct comparison of traits across job categories.\n",
    "\n",
    "2. **Creative Jobs**:\n",
    "   - **Openness** scores are significantly higher, confirming that creativity-oriented roles require individuals who are innovative and open to new ideas.\n",
    "   - Other traits, such as **agreeableness** and **extraversion**, are moderately high, reflecting the collaborative and social nature of creative work.\n",
    "\n",
    "3. **Technical Jobs**:\n",
    "   - **Conscientiousness** has the highest score compared to other job categories, aligning with the emphasis on organization, precision, and reliability in technical fields.\n",
    "   - **Neuroticism** is the lowest among all traits, indicating that emotional stability is a crucial requirement in technical roles.\n",
    "\n",
    "4. **Management Jobs**:\n",
    "   - **Agreeableness** and **conscientiousness** are prominent traits, reflecting the need for leadership, collaboration, and responsible decision-making in management roles.\n",
    "   - **Openness** is relatively lower than in creative jobs, showcasing a preference for strategic and structured thinking over exploratory approaches.\n",
    "\n",
    "#### Insights\n",
    "\n",
    "- The chart provides a clear overview of the personality traits associated with different job categories. It highlights how personality requirements align with the functional demands of these roles.\n",
    "- **Creative jobs** value imagination and innovation (high openness), **technical roles** prioritize reliability and stability (high conscientiousness and low neuroticism), and **management roles** focus on leadership qualities like agreeableness and conscientiousness.\n",
    "- The visualization is helpful in understanding how resumes may reflect these personality trends and how employers might prioritize traits based on job type."
   ]
  },
  {
   "cell_type": "markdown",
   "id": "a488c486-51ce-4fe1-b07c-82d97f5444d2",
   "metadata": {},
   "source": [
    "## 5.2 Heatmap\n",
    "The heatmap highlights how Big Five personality traits vary across job categories, using color gradients for easy comparison. Trends like higher openness in creative roles and greater conscientiousness in technical jobs are clearly visible, making it an effective summary of personality trends."
   ]
  },
  {
   "cell_type": "code",
   "execution_count": 27,
   "id": "10b3c7ca-06a4-401c-885c-4ea792e01b52",
   "metadata": {},
   "outputs": [
    {
     "data": {
      "image/png": "[encoded data removed]",
      "text/plain": [
       "<Figure size 1200x800 with 2 Axes>"
      ]
     },
     "metadata": {},
     "output_type": "display_data"
    }
   ],
   "source": [
    "# Simulated trait_means data for visualization purposes (since the state is reset)\n",
    "# Replace this with actual calculated data in your environment\n",
    "trait_means = pd.DataFrame({\n",
    "    'openness': [0.45, 0.55, 0.60],\n",
    "    'conscientiousness': [0.65, 0.70, 0.80],\n",
    "    'extraversion': [0.50, 0.60, 0.55],\n",
    "    'agreeableness': [0.70, 0.75, 0.65],\n",
    "    'neuroticism': [0.40, 0.35, 0.45]\n",
    "}, index=['Creative', 'Technical', 'Management'])\n",
    "\n",
    "# Plot a heatmap for the average trait scores by category\n",
    "plt.figure(figsize=(12, 8))\n",
    "sns.heatmap(trait_means, annot=True, cmap='coolwarm', fmt=\".2f\", linewidths=0.5, cbar=True)\n",
    "plt.title('Average Personality Trait Scores by Job Category')\n",
    "plt.ylabel('Job Category')\n",
    "plt.xlabel('Personality Traits')\n",
    "plt.tight_layout()\n",
    "plt.show()"
   ]
  },
  {
   "cell_type": "markdown",
   "id": "335b95b1-be11-47ff-890b-7d2bd1ef210f",
   "metadata": {},
   "source": [
    "### 5.2.1 Explanation of the Heatmap for Average Personality Trait Scores by Job Category\n",
    "\n",
    "The heatmap provides a clear visual representation of the average personality trait scores for different job categories: **Creative**, **Technical**, and **Management**. Each cell corresponds to the average score of a specific trait for a particular job category. The intensity of the color reflects the score, with darker or warmer tones indicating higher values.\n",
    "\n",
    "#### Key Observations\n",
    "1. **Creative Jobs**:\n",
    "   - Tend to have **higher openness** (0.60) compared to technical (0.55) and management roles (0.45), suggesting that creativity-oriented individuals are more imaginative and innovative.\n",
    "   - **Extraversion** and **agreeableness** are moderately high, indicating collaborative and social tendencies are valued in creative roles.\n",
    "   - **Neuroticism** is relatively moderate, showing emotional stability is not a primary focus for these roles.\n",
    "\n",
    "2. **Technical Jobs**:\n",
    "   - Exhibit the **highest conscientiousness** (0.80), which aligns with the need for reliability, organization, and precision in technical roles.\n",
    "   - **Openness** and **extraversion** are balanced, reflecting that while technical jobs value innovation, social interaction may not be as emphasized as in creative roles.\n",
    "   - **Neuroticism** is the lowest (0.35), showing that technical roles often require high emotional stability.\n",
    "\n",
    "3. **Management Jobs**:\n",
    "   - Show balanced scores across all traits, with particularly high scores in **conscientiousness** (0.70) and **agreeableness** (0.75). These traits are essential for leadership, decision-making, and maintaining workplace harmony.\n",
    "   - **Openness** is lower than in creative roles, reflecting a preference for structured and strategic thinking over raw innovation.\n",
    "\n",
    "#### Insights\n",
    "- The heatmap highlights the **trait emphasis in different job categories**. For instance, creative jobs prioritize openness, technical jobs focus on conscientiousness, and management roles emphasize agreeableness and conscientiousness.\n",
    "- It also reflects the alignment between personality traits and the inherent requirements of these roles. This can be used in recruitment, career counseling, and understanding self-representation in resumes for these industries.\n",
    "\n"
   ]
  },
  {
   "cell_type": "markdown",
   "id": "ed48884a-825c-46fc-ad86-7c70705daa97",
   "metadata": {},
   "source": [
    "# 6. Conclusions\n",
    "Through the exploratory data analysis, this project successfully demonstrated trends and relationships in personality traits across various job categories in resumes. The integration of sentiment analysis, keyword-based mapping, and linguistic feature extraction allowed for a nuanced understanding of personality expressions. These findings validate the feasibility of applying the Big Five Personality Model to resumes, with potential applications in recruitment and career counseling.\n",
    "\n",
    "Future improvements could involve experimenting with more advanced sentiment analysis tools tailored for professional or formal texts, as the current approach, while effective, may not fully capture the nuances of long-form resumes.\n",
    "\n",
    "# 6.1 Summary of Processed Data\n",
    "## Key Features\n",
    "\n",
    "The dataset's key features include **cleaned_resume**, which contains text processed to remove special characters, punctuation, and extra spaces, ensuring a clean input for analysis. Additionally, **tokens** and **lemmatized_tokens** provide refined linguistic features essential for mapping personality traits. The **Big Five Traits**—openness, conscientiousness, extraversion, agreeableness, and neuroticism—were quantified using sentiment analysis and keyword-based mapping. These features were pivotal in the analysis, with **cleaned_resume** and **lemmatized_tokens** serving as the primary inputs for personality trait extraction. Traits such as openness and agreeableness were examined across job categories, enabling comparative insights into how these traits manifest in different professional contexts.\n",
    "\n",
    "# 6.2 Limitations and Constraints of Data\n",
    "- **Category Distribution**: Uneven representation of job types might slightly bias trends.\n",
    "- **Textual Focus**: Non-English resumes and formatting/design elements were excluded for simplicity and consistency.\n",
    "- **Small Dataset Size**: One of the significant limitations of this project is the relatively small size of the dataset. With a smaller number of resumes, it becomes challenging to generalize the findings across a broader population or draw robust conclusions about personality traits and their relationship to job categories. A larger dataset could help uncover more subtle trends and provide better statistical power to validate the insights."
   ]
  },
  {
   "cell_type": "markdown",
   "id": "6b6c45a7-a396-4a88-ac51-9a0a99e55e2d",
   "metadata": {},
   "source": [
    "# 7. References and Resources\n",
    "\n",
    "## **7.1 References**\n",
    "\n",
    "1. Goldberg, L. R. (1990). *An alternative description of personality: The Big-Five factor structure.* *Journal of Personality and Social Psychology*, 59(6), 1216–1229.  \n",
    "2. Pennebaker, J. W., Boyd, R. L., Jordan, K., & Blackburn, K. (2015). *The development and psychometric properties of LIWC2015.* University of Texas at Austin.  \n",
    "3. Hutto, C., & Gilbert, E. (2014). *VADER: A parsimonious rule-based model for sentiment analysis of social media text.* *Eighth International AAAI Conference on Weblogs and Social Media.*  \n",
    "4. *NLTK Documentation*. *Natural Language Toolkit.* Available: [https://www.nltk.org/](https://www.nltk.org/)  \n",
    "5. *Scikit-learn Documentation.* Available: [https://scikit-learn.org/stable/](https://scikit-learn.org/stable/)\n",
    "6.  *Natural Language Processing lab, Dr Sean McGrath*  \n",
    "\n",
    "\n",
    "## **7.2 Resources Used**\n",
    "\n",
    "**Data Cleaning and Text Preprocessing**  \n",
    "- *Natural Language Processing lab, Dr Sean McGrath*\n",
    "- GeeksforGeeks: *Removing Stop Words with NLTK in Python* [Online]. Available: [https://www.geeksforgeeks.org/removing-stop-words-nltk-python/](https://www.geeksforgeeks.org/removing-stop-words-nltk-python/)  \n",
    "\n",
    "**Sentiment Analysis and Trait Mapping**  \n",
    "- *Natural Language Processing lab, Dr Sean McGrath*\n",
    "- GeeksforGeeks: *Sentiment Analysis Using VADER* [Online]. Available: [https://www.geeksforgeeks.org/python-sentiment-analysis-using-vader/](https://www.geeksforgeeks.org/python-sentiment-analysis-using-vader/)  \n",
    "\n",
    "**Visualization**  \n",
    "- *Matplotlib Documentation*: Customizing Matplotlib [Online]. Available: [https://matplotlib.org/stable/tutorials/index.html](https://matplotlib.org/stable/tutorials/index.html)  \n",
    "- *Seaborn Documentation*. Available: [https://seaborn.pydata.org/](https://seaborn.pydata.org/)  \n",
    "\n",
    "**Dataset**  \n",
    "- Kaggle: *Resumes Dataset*. Used for extracting linguistic patterns and personality trait mapping. Available: [https://www.kaggle.com/](https://www.kaggle.com/)  \n",
    "\n",
    "**Research on Big Five Traits**  \n",
    "- Srivastava, S. (2010). *Measuring the Big Five Personality Factors.* Available: [https://psu.edu/bigfive/](https://psu.edu/bigfive/)  \n",
    "\n"
   ]
  }
 ],
 "metadata": {
  "kernelspec": {
   "display_name": "Python 3 (ipykernel)",
   "language": "python",
   "name": "python3"
  },
  "language_info": {
   "codemirror_mode": {
    "name": "ipython",
    "version": 3
   },
   "file_extension": ".py",
   "mimetype": "text/x-python",
   "name": "python",
   "nbconvert_exporter": "python",
   "pygments_lexer": "ipython3",
   "version": "3.12.7"
  }
 },
 "nbformat": 4,
 "nbformat_minor": 5
}
